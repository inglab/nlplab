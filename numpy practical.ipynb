{
 "cells": [
  {
   "cell_type": "code",
   "execution_count": 1,
   "metadata": {},
   "outputs": [],
   "source": [
    "import numpy as np"
   ]
  },
  {
   "cell_type": "markdown",
   "metadata": {},
   "source": [
    "## Numpy 는 숫자 데이터를 가공하고 행렬계산을 하는데 사용하는 파이썬 모듈입니다.\n",
    "### Numpy 로 하는 일\n",
    "1. List 자료로 Numpy array 로 만들기\n",
    "2. 행렬 형태 확인하기\n",
    "3. 행렬 형태 바꾸기\n",
    "4. 행렬 데이터 만들기\n",
    "5. 행렬의 일부 구간 추출하기\n",
    "6. 행렬끼리 더하기, 곱하기, 행렬 원소간의 연산\n",
    "7. 행렬끼리 합치기\n",
    "8. 그외 연산"
   ]
  },
  {
   "cell_type": "markdown",
   "metadata": {},
   "source": [
    "### 1. List 자료로 Numpy array 만들기 : array()"
   ]
  },
  {
   "cell_type": "code",
   "execution_count": 6,
   "metadata": {},
   "outputs": [
    {
     "name": "stdout",
     "output_type": "stream",
     "text": [
      "<class 'list'>\n",
      "Numpy array A : [1 2 3]\n",
      "Type : <class 'numpy.ndarray'>\n",
      "Numpy array A (float) : [1. 2. 3.]\n"
     ]
    },
    {
     "data": {
      "text/plain": [
       "numpy.ndarray"
      ]
     },
     "execution_count": 6,
     "metadata": {},
     "output_type": "execute_result"
    }
   ],
   "source": [
    "a = [1, 2, 3]    \n",
    "print(type(a))\n",
    "A = np.array(a)\n",
    "\n",
    "print('Numpy array A :', A)\n",
    "print('Type :', type(A))\n",
    "\n",
    "A = np.array(a, dtype='float')     #데이터 타입을 float 로 캐스팅해서 배열로 만들기\n",
    "print('Numpy array A (float) :', A)\n",
    "\n",
    "type(A)"
   ]
  },
  {
   "cell_type": "markdown",
   "metadata": {},
   "source": [
    "### 일반 Boolean 타입의 리스트를 배열로 만들기 : astype( )"
   ]
  },
  {
   "cell_type": "code",
   "execution_count": 10,
   "metadata": {},
   "outputs": [
    {
     "name": "stdout",
     "output_type": "stream",
     "text": [
      "<class 'list'>\n",
      "Numpy array B : [ True False  True]\n",
      "Numpy array B (int) : [1 0 1]\n",
      "<class 'numpy.ndarray'>\n"
     ]
    }
   ],
   "source": [
    "b = [True, False, True]\n",
    "print(type(b))\n",
    "B = np.array(b)\n",
    "\n",
    "print('Numpy array B :', B)\n",
    "print('Numpy array B (int) :', B.astype(int))\n",
    "print(type(B))"
   ]
  },
  {
   "cell_type": "markdown",
   "metadata": {},
   "source": [
    "### 2차원 리스트를 배열로 만들기"
   ]
  },
  {
   "cell_type": "code",
   "execution_count": 16,
   "metadata": {},
   "outputs": [
    {
     "name": "stdout",
     "output_type": "stream",
     "text": [
      "Numpy array C: \n",
      " [[1 2 3]\n",
      " [4 5 6]]\n",
      "Shape of C : (2, 3)\n"
     ]
    }
   ],
   "source": [
    "c = [[1,2,3],[4,5,6]]\n",
    "\n",
    "C = np.array(c)\n",
    "\n",
    "print('Numpy array C: \\n', C)\n",
    "print('Shape of C :', C.shape)"
   ]
  },
  {
   "cell_type": "markdown",
   "metadata": {},
   "source": [
    "### 2.형렬 형태 확인하기 : shape"
   ]
  },
  {
   "cell_type": "code",
   "execution_count": 18,
   "metadata": {},
   "outputs": [
    {
     "name": "stdout",
     "output_type": "stream",
     "text": [
      "Numpy array A:  [1. 2. 3.]\n",
      "Dimension of A:  1\n",
      "Shape of A:  (3,)\n",
      "\n",
      "\n",
      "Numpy array C: \n",
      " [[1 2 3]\n",
      " [4 5 6]]\n",
      "Dimension of C:  2\n",
      "Shape of C:  (2, 3)\n"
     ]
    }
   ],
   "source": [
    "print('Numpy array A: ', A)     \n",
    "print('Dimension of A: ', A.ndim)     \n",
    "print('Shape of A: ', A.shape)     \n",
    "\n",
    "print('\\n')\n",
    "print('Numpy array C: \\n', C)     \n",
    "print('Dimension of C: ', C.ndim)     \n",
    "print('Shape of C: ', C.shape)"
   ]
  },
  {
   "cell_type": "markdown",
   "metadata": {},
   "source": [
    "#### A 배열은 차원의 갯수가 한 개인 벡터다. 따라서 A 배열의 형태를 튜플로 표현했을 때 원소가 하나 밖에 없다. 형태가 (3, ) 라면 길이가 3인 (열)벡터로 생각하면 된다. 화면에는 가로로 길게 표현되어서 행 벡터로 인식하기 쉽지만 수학에서는 열 벡터를 디폴트다.\n",
    "\n",
    "##### ※ 형태가 (3, ) 인 벡터와 형태가 (3, 1) 인 행렬은 그 안에 있는 원소들은 동일하지만 엄현이 다른 것이다. 나중에 자신만의 함수를 코딩할 때 리턴값으로 어떤 종류로 리턴해야하는지 고민을 할 경우가 있다. 그럴때는 열 벡터를 선택하는 것이 편하다. <- 물론 나중에 sklearn 이나 Tensorflow 를 사용하면 이런 고민을 할 필요가 없지만...\n",
    "\n",
    "##### C 배열은 차원의 갯수가 두 개인 행렬이다. 따라서 C 배열의 형태를 튜플로 표현하면 원소가 두 개다. 형태가 (2, 3) 라면 2행 3렬인 행렬을 나타낸다."
   ]
  },
  {
   "cell_type": "markdown",
   "metadata": {},
   "source": [
    "### 3. 행렬 형태 바꾸기 : reshape, reshape(-1,1), ravel(), "
   ]
  },
  {
   "cell_type": "code",
   "execution_count": 19,
   "metadata": {},
   "outputs": [
    {
     "name": "stdout",
     "output_type": "stream",
     "text": [
      "Numpy array C: \n",
      " [[1 2 3]\n",
      " [4 5 6]]\n",
      "Numpy array C (reshaped to (3,2)): \n",
      " [[1 2]\n",
      " [3 4]\n",
      " [5 6]]\n"
     ]
    }
   ],
   "source": [
    "print('Numpy array C: \\n', C)   \n",
    "\n",
    "C = C.reshape(3,2)\n",
    "print('Numpy array C (reshaped to (3,2)): \\n', C)   "
   ]
  },
  {
   "cell_type": "markdown",
   "metadata": {},
   "source": [
    "#### 어떤 행렬을 열 벡터처럼 만드는 이디엄이 있습니다. reshape() 의 인자에 -1 을 써주면 해당 차원의 길이는 나머지 차원 크기에 따라서 결정됩니다.\n",
    "\n",
    "#### C 행렬을 열 크기가 1인 행렬로 바꿔보겠습니다."
   ]
  },
  {
   "cell_type": "code",
   "execution_count": 21,
   "metadata": {},
   "outputs": [
    {
     "name": "stdout",
     "output_type": "stream",
     "text": [
      "[[1]\n",
      " [2]\n",
      " [3]\n",
      " [4]\n",
      " [5]\n",
      " [6]]\n"
     ]
    }
   ],
   "source": [
    "C_colvector = C.reshape(-1,1)   # 행의 크기는 미정이지만 열의 크기는 1로 고정하겠다는 표현입니다.\n",
    "print(C_colvector)"
   ]
  },
  {
   "cell_type": "markdown",
   "metadata": {},
   "source": [
    "#### 위와 같이 열의 크기가 1인 상태로 연산을 해야할 경우도 있지만, 원소들의 정보만 담아서 표현하기에는 Numpy 의 벡터표현이 더 적합합니다. 그럴 때는 ravel() 함수를 사용합니다."
   ]
  },
  {
   "cell_type": "code",
   "execution_count": 27,
   "metadata": {},
   "outputs": [
    {
     "name": "stdout",
     "output_type": "stream",
     "text": [
      "Numpy array a (6,):\n",
      "\n",
      "[1 2 3 4 5 6]\n",
      "\n",
      "\n"
     ]
    }
   ],
   "source": [
    "show(C.ravel())"
   ]
  },
  {
   "cell_type": "markdown",
   "metadata": {},
   "source": [
    "#### Numpy 배열의 내용과 형태를 출력하는 코드를 자주 사용하니 함수를 만듭니다."
   ]
  },
  {
   "cell_type": "code",
   "execution_count": 29,
   "metadata": {},
   "outputs": [],
   "source": [
    "def show(X, name=''):\n",
    "    print('Numpy array %s %s:\\n' % (name,str(X.shape)))\n",
    "    print(X)\n",
    "    print('\\n')"
   ]
  },
  {
   "cell_type": "markdown",
   "metadata": {},
   "source": [
    "#### 전치행렬이라고 들어보셨나요?\n",
    "\n",
    "#### 행렬의 행과 열의 위치를 바꾼행렬을 전치행렬(Transpose matrix)이라고 합니다.\n",
    "\n",
    "#### m x n 행렬의 전치행렬은 n x m 행렬이 됩니다.\n",
    "\n",
    "#### Numpy 에서는 간단하게 .T 로 전치행렬을 만들 수 있습니다."
   ]
  },
  {
   "cell_type": "code",
   "execution_count": 30,
   "metadata": {},
   "outputs": [
    {
     "name": "stdout",
     "output_type": "stream",
     "text": [
      "Numpy array C (3, 2):\n",
      "\n",
      "[[1 2]\n",
      " [3 4]\n",
      " [5 6]]\n",
      "\n",
      "\n",
      "Numpy array Transpose C (2, 3):\n",
      "\n",
      "[[1 3 5]\n",
      " [2 4 6]]\n",
      "\n",
      "\n"
     ]
    }
   ],
   "source": [
    "show(C, 'C')\n",
    "show(C.T, 'Transpose C')"
   ]
  },
  {
   "cell_type": "markdown",
   "metadata": {},
   "source": [
    "### 4. 행렬 데이터 만들기 : arange(), random(), linspace(), logspace()"
   ]
  },
  {
   "cell_type": "markdown",
   "metadata": {},
   "source": [
    "#### arange( 시작값, 초과하면 안 되는 값, 스텝 ) 과 같은 표현을 사용하면 등차수열에서와 같은 숫자열을 얻을 수 있습니다."
   ]
  },
  {
   "cell_type": "code",
   "execution_count": 55,
   "metadata": {},
   "outputs": [
    {
     "name": "stdout",
     "output_type": "stream",
     "text": [
      "Numpy array X (6,):\n",
      "\n",
      "[0 1 2 3 4 5]\n",
      "\n",
      "\n",
      "Numpy array Y (6,):\n",
      "\n",
      "[1 2 3 4 5 6]\n",
      "\n",
      "\n",
      "Numpy array reshaped Y (2, 3):\n",
      "\n",
      "[[1 2 3]\n",
      " [4 5 6]]\n",
      "\n",
      "\n"
     ]
    }
   ],
   "source": [
    "X = np.arange(6); show(X, 'X')     #  np.arange(0,6,1) 과 동일한 표현\n",
    "Y = np.arange(1,7); show(Y, 'Y')   #  np.arange(1,7,1) 과 동일한 표현\n",
    "\n",
    "Y = np.arange(1,7).reshape(2,3);  show(Y, 'reshaped Y')   # Numpy 함수를 연속해서 사용할 수 있습니다."
   ]
  },
  {
   "cell_type": "markdown",
   "metadata": {},
   "source": [
    "#### 랜덤값으로 (2,3) 배열을 만들어 봅니다."
   ]
  },
  {
   "cell_type": "code",
   "execution_count": 89,
   "metadata": {},
   "outputs": [
    {
     "name": "stdout",
     "output_type": "stream",
     "text": [
      "Numpy array R (2, 3):\n",
      "\n",
      "[[0.5488135  0.71518937 0.60276338]\n",
      " [0.54488318 0.4236548  0.64589411]]\n",
      "\n",
      "\n"
     ]
    }
   ],
   "source": [
    "np.random.seed(0)\n",
    "R = np.random.random((2,3)); show(R, 'R')  # 0~1 사이의 랜덤값을 생성해서 Numpy 배열로 만들었습니다"
   ]
  },
  {
   "cell_type": "markdown",
   "metadata": {},
   "source": [
    "#### 표준정규 분포로 부터 랜덤값을 만들 수도 있습니다."
   ]
  },
  {
   "cell_type": "code",
   "execution_count": 98,
   "metadata": {},
   "outputs": [
    {
     "name": "stdout",
     "output_type": "stream",
     "text": [
      "Numpy array G (2, 3):\n",
      "\n",
      "[[-0.02818223  0.42833187  0.06651722]\n",
      " [ 0.3024719  -0.63432209 -0.36274117]]\n",
      "\n",
      "\n"
     ]
    }
   ],
   "source": [
    "mu = 0.0\n",
    "sigma = 1.0\n",
    "\n",
    "G = np.random.normal(mu, sigma, (2,3)); show(G, 'G')  # 0~1 사이의 랜덤값을 생성해서 Numpy 배열로 만들었습니다"
   ]
  },
  {
   "cell_type": "markdown",
   "metadata": {},
   "source": [
    "#### 행렬 R 과 G 의 원소 값들의 평균값을 예측해 볼 수 있겠죠?"
   ]
  },
  {
   "cell_type": "code",
   "execution_count": 99,
   "metadata": {},
   "outputs": [
    {
     "name": "stdout",
     "output_type": "stream",
     "text": [
      "R 의 평균값 :  0.5801997236289743\n",
      "G 의 평균값 :  -0.03798741622556493\n"
     ]
    }
   ],
   "source": [
    "print('R 의 평균값 : ',R.mean())\n",
    "print('G 의 평균값 : ',G.mean())"
   ]
  },
  {
   "cell_type": "markdown",
   "metadata": {},
   "source": [
    "#### 표본의 갯수가 적어서 원하는 값이 나오지 않았습니다.\n",
    "#### 표본의 갯수를 1000개로 늘려서 다시 평균값을 계산해보겠습니다."
   ]
  },
  {
   "cell_type": "code",
   "execution_count": 100,
   "metadata": {},
   "outputs": [
    {
     "name": "stdout",
     "output_type": "stream",
     "text": [
      "R 의 평균값 :  0.4930680427679857\n",
      "G 의 평균값 :  0.025120333594165517\n"
     ]
    }
   ],
   "source": [
    "n_data = 1000\n",
    "\n",
    "R = np.random.random(n_data)\n",
    "G = np.random.normal(mu, sigma, n_data)    # G 는 Gaussian 에서 따온 것 입니다.\n",
    "\n",
    "print('R 의 평균값 : ',R.mean())\n",
    "print('G 의 평균값 : ',G.mean())    "
   ]
  },
  {
   "cell_type": "markdown",
   "metadata": {},
   "source": [
    "#### 예상대로 R 의 평균값은 0.5에 가까워졌고, G의 평균값은 mu = 0.0 와 가까워졌습니다."
   ]
  },
  {
   "cell_type": "markdown",
   "metadata": {},
   "source": [
    "### 5. 행렬 데이터의 일부 구간 추출하기"
   ]
  },
  {
   "cell_type": "code",
   "execution_count": 101,
   "metadata": {},
   "outputs": [
    {
     "name": "stdout",
     "output_type": "stream",
     "text": [
      "Numpy array C (3, 5):\n",
      "\n",
      "[[ 1  2  3  4  5]\n",
      " [ 6  7  8  9 10]\n",
      " [11 12 13 14 15]]\n",
      "\n",
      "\n"
     ]
    }
   ],
   "source": [
    "C = np.arange(1,16).reshape(3,5); show(C, 'C')"
   ]
  },
  {
   "cell_type": "markdown",
   "metadata": {},
   "source": [
    "\n",
    "3행 5열인 행렬입니다. 1행과 2행을 선택해보겠습니다.\n",
    "\n",
    "파이썬에서의 인덱스는 0부터 시작하는 것에 주의해야합니다.\n",
    "\n",
    "slicing 할 때 콜론(:) 을 사용하면 모든 원소를 의미합니다."
   ]
  },
  {
   "cell_type": "code",
   "execution_count": 122,
   "metadata": {},
   "outputs": [
    {
     "data": {
      "text/plain": [
       "array([[ 1,  2,  3,  4,  5],\n",
       "       [ 6,  7,  8,  9, 10]])"
      ]
     },
     "execution_count": 122,
     "metadata": {},
     "output_type": "execute_result"
    }
   ],
   "source": [
    "C[[0,1], : ]"
   ]
  },
  {
   "cell_type": "markdown",
   "metadata": {},
   "source": [
    "행렬의 (2, 3) 위치에 있는 원소값을 골라봅니다. 8을 선택해야합니다."
   ]
  },
  {
   "cell_type": "code",
   "execution_count": 121,
   "metadata": {},
   "outputs": [
    {
     "data": {
      "text/plain": [
       "8"
      ]
     },
     "execution_count": 121,
     "metadata": {},
     "output_type": "execute_result"
    }
   ],
   "source": [
    "C[1, 2]"
   ]
  },
  {
   "cell_type": "markdown",
   "metadata": {},
   "source": [
    "행렬의 마지막 행을 선택합니다."
   ]
  },
  {
   "cell_type": "code",
   "execution_count": 104,
   "metadata": {},
   "outputs": [
    {
     "data": {
      "text/plain": [
       "array([11, 12, 13, 14, 15])"
      ]
     },
     "execution_count": 104,
     "metadata": {},
     "output_type": "execute_result"
    }
   ],
   "source": [
    "C[ -1, : ]  # '-1' 은 마지막 인덱스를 가르킵니다. Java 에서는  x.length - 1 이렇게 했었죠."
   ]
  },
  {
   "cell_type": "code",
   "execution_count": 135,
   "metadata": {},
   "outputs": [
    {
     "data": {
      "text/plain": [
       "array([[ 6,  7,  8,  9, 10],\n",
       "       [11, 12, 13, 14, 15]])"
      ]
     },
     "execution_count": 135,
     "metadata": {},
     "output_type": "execute_result"
    }
   ],
   "source": [
    "C[[-2,-1],:]"
   ]
  },
  {
   "cell_type": "markdown",
   "metadata": {},
   "source": [
    "그럼 퀴즈를 내보겠습니다.\n",
    "\n",
    "C 행렬의 마지막 두 행을 추출할 수 있을까요?\n",
    "\n",
    "이번에는 C 행렬에서 3으로 나눠서 떨어지는 원소들만 모아보겠습니다."
   ]
  },
  {
   "cell_type": "code",
   "execution_count": 105,
   "metadata": {},
   "outputs": [],
   "source": [
    "B = C % 3 == 0"
   ]
  },
  {
   "cell_type": "markdown",
   "metadata": {},
   "source": [
    "이렇게 하면 boolean 타입의 행렬을 얻을 수 있습니다."
   ]
  },
  {
   "cell_type": "code",
   "execution_count": 106,
   "metadata": {},
   "outputs": [
    {
     "name": "stdout",
     "output_type": "stream",
     "text": [
      "Numpy array B (3, 5):\n",
      "\n",
      "[[False False  True False False]\n",
      " [ True False False  True False]\n",
      " [False  True False False  True]]\n",
      "\n",
      "\n"
     ]
    }
   ],
   "source": [
    "show(B,'B')"
   ]
  },
  {
   "cell_type": "markdown",
   "metadata": {},
   "source": [
    "B 행렬에는 3으로 나눠서 떨어지는 원소들의 위치 정보가 들어가 있고, 이 정보를 사용해서 C 행렬의 원소들을 불러오면 됩니다."
   ]
  },
  {
   "cell_type": "code",
   "execution_count": 107,
   "metadata": {},
   "outputs": [
    {
     "data": {
      "text/plain": [
       "array([ 3,  6,  9, 12, 15])"
      ]
     },
     "execution_count": 107,
     "metadata": {},
     "output_type": "execute_result"
    }
   ],
   "source": [
    "C[B]"
   ]
  },
  {
   "cell_type": "markdown",
   "metadata": {},
   "source": [
    "\n",
    "앞에서 낸 문제는 답 중에 가장 간단한 표현은 다음과 같습니다."
   ]
  },
  {
   "cell_type": "code",
   "execution_count": 108,
   "metadata": {},
   "outputs": [
    {
     "data": {
      "text/plain": [
       "array([[ 4,  5],\n",
       "       [ 9, 10],\n",
       "       [14, 15]])"
      ]
     },
     "execution_count": 108,
     "metadata": {},
     "output_type": "execute_result"
    }
   ],
   "source": [
    "C[:,-2:]     # 마지막 두 개의 열을 추출   C[:, [-2,-1]] 과 같은 표현입니다."
   ]
  },
  {
   "cell_type": "markdown",
   "metadata": {},
   "source": [
    "### 6.행렬끼리 더하기, 곱하기, 행렬 원소간의 연산"
   ]
  },
  {
   "cell_type": "code",
   "execution_count": 136,
   "metadata": {},
   "outputs": [
    {
     "name": "stdout",
     "output_type": "stream",
     "text": [
      "Numpy array E (2, 3):\n",
      "\n",
      "[[1 2 3]\n",
      " [4 5 6]]\n",
      "\n",
      "\n"
     ]
    }
   ],
   "source": [
    "E = np.arange(1,7).reshape(2,3); show(E,'E')"
   ]
  },
  {
   "cell_type": "markdown",
   "metadata": {},
   "source": [
    "\n",
    "행렬에 스칼라 값을 연산시키면 같은 연산을 행렬의 모든 원소에 적용시킵니다."
   ]
  },
  {
   "cell_type": "code",
   "execution_count": 137,
   "metadata": {},
   "outputs": [
    {
     "data": {
      "text/plain": [
       "array([[2, 3, 4],\n",
       "       [5, 6, 7]])"
      ]
     },
     "execution_count": 137,
     "metadata": {},
     "output_type": "execute_result"
    }
   ],
   "source": [
    "E + 1"
   ]
  },
  {
   "cell_type": "markdown",
   "metadata": {},
   "source": [
    "행렬끼리의 덧셈, 뺼셈은 같은 크기의 행렬끼리만 적용할 수 있습니다. ( 더 정확하게 설명하면 한 쪽 행렬의 어떤 차원을 길이를 정수배로 늘렸을 떄 다른 쪽 행렬과 크기가 같다면 서로 원소끼리의 연산할 수 있습니다.)"
   ]
  },
  {
   "cell_type": "code",
   "execution_count": 138,
   "metadata": {},
   "outputs": [
    {
     "data": {
      "text/plain": [
       "array([[ 2,  4,  6],\n",
       "       [ 8, 10, 12]])"
      ]
     },
     "execution_count": 138,
     "metadata": {},
     "output_type": "execute_result"
    }
   ],
   "source": [
    "E + E"
   ]
  },
  {
   "cell_type": "code",
   "execution_count": 146,
   "metadata": {},
   "outputs": [
    {
     "name": "stdout",
     "output_type": "stream",
     "text": [
      "[[1]\n",
      " [2]]\n"
     ]
    },
    {
     "data": {
      "text/plain": [
       "array([[ 1,  2,  3],\n",
       "       [ 8, 10, 12]])"
      ]
     },
     "execution_count": 146,
     "metadata": {},
     "output_type": "execute_result"
    }
   ],
   "source": [
    "F = np.array([1,2]).reshape(-1,1)\n",
    "print(F)\n",
    "E * F   #  E 의 첫 행에는 1을 곱하고 두 번쨰 행에는 2를 곱한 결과을 얻습니다."
   ]
  },
  {
   "cell_type": "markdown",
   "metadata": {},
   "source": [
    "\n",
    "행렬끼리의 곱은 A x B 의 경우 행렬 A 의 열이 크기(갯수)와 행렬 B 의 행의 크기가 같아야지 연산할 수 있습니다.\n",
    "\n",
    "행렬 A 가 (m x n) 행렬이고, 행렬 B 가 (n x k) 행렬이라면 A x B 의 결과는 (m x k) 행렬이 됩니다.\n",
    "\n",
    "행렬끼리의 곱은 A.dot(B) 또는 A @ B 와 같은 표현을 주로 사용합니다."
   ]
  },
  {
   "cell_type": "code",
   "execution_count": 140,
   "metadata": {},
   "outputs": [
    {
     "name": "stdout",
     "output_type": "stream",
     "text": [
      "Numpy array E (2, 3):\n",
      "\n",
      "[[1 2 3]\n",
      " [4 5 6]]\n",
      "\n",
      "\n",
      "Numpy array H (3, 1):\n",
      "\n",
      "[[1]\n",
      " [0]\n",
      " [1]]\n",
      "\n",
      "\n"
     ]
    }
   ],
   "source": [
    "H = np.array([1,0,1]).reshape(-1,1)\n",
    "show(E,'E')\n",
    "show(H,'H')"
   ]
  },
  {
   "cell_type": "code",
   "execution_count": 141,
   "metadata": {},
   "outputs": [
    {
     "data": {
      "text/plain": [
       "array([[ 4],\n",
       "       [10]])"
      ]
     },
     "execution_count": 141,
     "metadata": {},
     "output_type": "execute_result"
    }
   ],
   "source": [
    "E.dot(H)   "
   ]
  },
  {
   "cell_type": "code",
   "execution_count": 142,
   "metadata": {},
   "outputs": [
    {
     "data": {
      "text/plain": [
       "array([[ 4],\n",
       "       [10]])"
      ]
     },
     "execution_count": 142,
     "metadata": {},
     "output_type": "execute_result"
    }
   ],
   "source": [
    "E @ H"
   ]
  },
  {
   "cell_type": "markdown",
   "metadata": {},
   "source": [
    "### 7. 행렬끼리 합치기 : hstack(), vstack()"
   ]
  },
  {
   "cell_type": "markdown",
   "metadata": {},
   "source": [
    "두 행렬의 행의 크기가 같다면 가로 방향으로 붙일 수 있고,\n",
    "\n",
    "두 행렬의 열의 크기가 같다면 세로 방향으로 붙일 수 있습니다."
   ]
  },
  {
   "cell_type": "code",
   "execution_count": 147,
   "metadata": {},
   "outputs": [
    {
     "data": {
      "text/plain": [
       "array([[1, 2, 3, 1, 2, 3],\n",
       "       [4, 5, 6, 4, 5, 6]])"
      ]
     },
     "execution_count": 147,
     "metadata": {},
     "output_type": "execute_result"
    }
   ],
   "source": [
    "np.hstack((E,E))"
   ]
  },
  {
   "cell_type": "code",
   "execution_count": 148,
   "metadata": {},
   "outputs": [
    {
     "data": {
      "text/plain": [
       "array([[1, 2, 3],\n",
       "       [4, 5, 6],\n",
       "       [1, 2, 3],\n",
       "       [4, 5, 6]])"
      ]
     },
     "execution_count": 148,
     "metadata": {},
     "output_type": "execute_result"
    }
   ],
   "source": [
    "np.vstack((E,E))"
   ]
  },
  {
   "cell_type": "markdown",
   "metadata": {},
   "source": [
    "### 8. 그외 연산 : sum(), sqaure(), max(), argmax()\n",
    "\n",
    "\n",
    "(3 x 3) 행렬을 새로 정의합니다."
   ]
  },
  {
   "cell_type": "code",
   "execution_count": 149,
   "metadata": {},
   "outputs": [
    {
     "name": "stdout",
     "output_type": "stream",
     "text": [
      "Numpy array  (3, 3):\n",
      "\n",
      "[[3 1 2]\n",
      " [4 6 5]\n",
      " [8 7 9]]\n",
      "\n",
      "\n"
     ]
    }
   ],
   "source": [
    "S = np.array([3,1,2,4,6,5,8,7,9]).reshape(3,3)\n",
    "show(S)"
   ]
  },
  {
   "cell_type": "markdown",
   "metadata": {},
   "source": [
    "행렬 원소들의 합"
   ]
  },
  {
   "cell_type": "code",
   "execution_count": 150,
   "metadata": {},
   "outputs": [
    {
     "data": {
      "text/plain": [
       "45"
      ]
     },
     "execution_count": 150,
     "metadata": {},
     "output_type": "execute_result"
    }
   ],
   "source": [
    "S.sum()  # np.sum(S) 과 같은 표현"
   ]
  },
  {
   "cell_type": "markdown",
   "metadata": {},
   "source": [
    "행렬의 행 방향으로의 합"
   ]
  },
  {
   "cell_type": "code",
   "execution_count": 151,
   "metadata": {},
   "outputs": [
    {
     "data": {
      "text/plain": [
       "array([ 6, 15, 24])"
      ]
     },
     "execution_count": 151,
     "metadata": {},
     "output_type": "execute_result"
    }
   ],
   "source": [
    "S.sum(axis=1)"
   ]
  },
  {
   "cell_type": "markdown",
   "metadata": {},
   "source": [
    "행렬의 열 방향으로의 합"
   ]
  },
  {
   "cell_type": "code",
   "execution_count": 159,
   "metadata": {},
   "outputs": [
    {
     "data": {
      "text/plain": [
       "array([15, 14, 16])"
      ]
     },
     "execution_count": 159,
     "metadata": {},
     "output_type": "execute_result"
    }
   ],
   "source": [
    "S.sum(axis=0)  # np.sum(S, axis=0) 와 같은 표현"
   ]
  },
  {
   "cell_type": "markdown",
   "metadata": {},
   "source": [
    "행렬의 각 원소를 제곱해서 합을 구함"
   ]
  },
  {
   "cell_type": "code",
   "execution_count": 152,
   "metadata": {},
   "outputs": [
    {
     "data": {
      "text/plain": [
       "285"
      ]
     },
     "execution_count": 152,
     "metadata": {},
     "output_type": "execute_result"
    }
   ],
   "source": [
    "np.square(S).sum()"
   ]
  },
  {
   "cell_type": "markdown",
   "metadata": {},
   "source": [
    "\n",
    "이번에는 최대값, 최소값에 관한 정보를 얻어보겠습니다.\n",
    "\n",
    "행렬의 전체 원소 중에서 최대값"
   ]
  },
  {
   "cell_type": "code",
   "execution_count": 153,
   "metadata": {},
   "outputs": [
    {
     "data": {
      "text/plain": [
       "9"
      ]
     },
     "execution_count": 153,
     "metadata": {},
     "output_type": "execute_result"
    }
   ],
   "source": [
    "S.max()"
   ]
  },
  {
   "cell_type": "markdown",
   "metadata": {},
   "source": [
    "행렬의 각 행에서의 최대값"
   ]
  },
  {
   "cell_type": "code",
   "execution_count": 154,
   "metadata": {},
   "outputs": [
    {
     "data": {
      "text/plain": [
       "array([3, 6, 9])"
      ]
     },
     "execution_count": 154,
     "metadata": {},
     "output_type": "execute_result"
    }
   ],
   "source": [
    "S.max(axis=1)"
   ]
  },
  {
   "cell_type": "markdown",
   "metadata": {},
   "source": [
    "행렬의 각 열에서의 최대값"
   ]
  },
  {
   "cell_type": "code",
   "execution_count": 155,
   "metadata": {},
   "outputs": [
    {
     "data": {
      "text/plain": [
       "array([8, 7, 9])"
      ]
     },
     "execution_count": 155,
     "metadata": {},
     "output_type": "execute_result"
    }
   ],
   "source": [
    "S.max(axis=0)"
   ]
  },
  {
   "cell_type": "markdown",
   "metadata": {},
   "source": [
    "행렬의 각 행에서의 최대값인 원소의 열 위치"
   ]
  },
  {
   "cell_type": "code",
   "execution_count": 157,
   "metadata": {},
   "outputs": [
    {
     "data": {
      "text/plain": [
       "array([0, 1, 2], dtype=int64)"
      ]
     },
     "execution_count": 157,
     "metadata": {},
     "output_type": "execute_result"
    }
   ],
   "source": [
    "S.argmax(axis=1)"
   ]
  },
  {
   "cell_type": "markdown",
   "metadata": {},
   "source": [
    "행렬의 각 열에서의 최대값인 원소의 행 위치"
   ]
  },
  {
   "cell_type": "code",
   "execution_count": 158,
   "metadata": {},
   "outputs": [
    {
     "data": {
      "text/plain": [
       "array([2, 2, 2], dtype=int64)"
      ]
     },
     "execution_count": 158,
     "metadata": {},
     "output_type": "execute_result"
    }
   ],
   "source": [
    "S.argmax(axis=0)"
   ]
  }
 ],
 "metadata": {
  "kernelspec": {
   "display_name": "Python 3",
   "language": "python",
   "name": "python3"
  },
  "language_info": {
   "codemirror_mode": {
    "name": "ipython",
    "version": 3
   },
   "file_extension": ".py",
   "mimetype": "text/x-python",
   "name": "python",
   "nbconvert_exporter": "python",
   "pygments_lexer": "ipython3",
   "version": "3.6.5"
  }
 },
 "nbformat": 4,
 "nbformat_minor": 2
}
