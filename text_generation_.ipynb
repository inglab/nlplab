{
 "cells": [
  {
   "cell_type": "code",
   "execution_count": 1,
   "metadata": {},
   "outputs": [
    {
     "name": "stderr",
     "output_type": "stream",
     "text": [
      "/Users/yun/anaconda3/lib/python3.6/site-packages/h5py/__init__.py:36: FutureWarning: Conversion of the second argument of issubdtype from `float` to `np.floating` is deprecated. In future, it will be treated as `np.float64 == np.dtype(float).type`.\n",
      "  from ._conv import register_converters as _register_converters\n",
      "Using TensorFlow backend.\n"
     ]
    },
    {
     "name": "stdout",
     "output_type": "stream",
     "text": [
      "코퍼스의 길이:  311682\n"
     ]
    }
   ],
   "source": [
    "import codecs\n",
    "from bs4 import BeautifulSoup\n",
    "from keras.models import Sequential\n",
    "from keras.layers import Dense, Activation, Dropout\n",
    "from keras.layers import LSTM\n",
    "from keras.optimizers import RMSprop\n",
    "from keras.utils.data_utils import get_file\n",
    "import numpy as np\n",
    "import random, sys\n",
    "fp = codecs.open(\"toji.txt\", \"r\", encoding=\"utf-16\")\n",
    "soup = BeautifulSoup(fp, \"html.parser\")\n",
    "body = soup.select_one(\"body\")\n",
    "text = body.getText() + \" \"\n",
    "print('코퍼스의 길이: ', len(text))\n"
   ]
  },
  {
   "cell_type": "code",
   "execution_count": 2,
   "metadata": {},
   "outputs": [
    {
     "name": "stdout",
     "output_type": "stream",
     "text": [
      "사용되고 있는 문자의 수: 1692\n"
     ]
    }
   ],
   "source": [
    "\n",
    "# 문자를 하나하나 읽어 들이고 ID 붙이기\n",
    "chars = sorted(list(set(text)))\n",
    "print('사용되고 있는 문자의 수:', len(chars))\n",
    "char_indices = dict((c, i) for i, c in enumerate(chars)) # 문자 → ID\n",
    "indices_char = dict((i, c) for i, c in enumerate(chars)) # ID → 문자"
   ]
  },
  {
   "cell_type": "code",
   "execution_count": 3,
   "metadata": {},
   "outputs": [
    {
     "name": "stdout",
     "output_type": "stream",
     "text": [
      "학습할 구문의 수: 103888\n",
      "텍스트를 ID 벡터로 변환합니다...\n"
     ]
    }
   ],
   "source": [
    "# 텍스트를 maxlen개의 문자로 자르고 다음에 오는 문자 등록하기\n",
    "maxlen = 20 # 한 문장의 길이가 maxlen\n",
    "step = 3\n",
    "sentences = []\n",
    "next_chars = []\n",
    "for i in range(0, len(text) - maxlen, step):\n",
    "    sentences.append(text[i: i + maxlen])\n",
    "    next_chars.append(text[i + maxlen])\n",
    "    \n",
    "print('학습할 구문의 수:', len(sentences))\n",
    "print('텍스트를 ID 벡터로 변환합니다...')\n",
    "X = np.zeros((len(sentences), maxlen, len(chars)), dtype=np.bool) #문장 수, 문장길이, 단어(글자) 수\n",
    "y = np.zeros((len(sentences), len(chars)), dtype=np.bool) # 문장 수, 단어 수\n",
    "\n",
    "for i, sentence in enumerate(sentences):\n",
    "    for t, char in enumerate(sentence):\n",
    "        X[i, t, char_indices[char]] = 1\n",
    "    y[i, char_indices[next_chars[i]]] = 1\n",
    "    \n"
   ]
  },
  {
   "cell_type": "code",
   "execution_count": 4,
   "metadata": {},
   "outputs": [
    {
     "name": "stdout",
     "output_type": "stream",
     "text": [
      "모델을 구축합니다...\n",
      "_________________________________________________________________\n",
      "Layer (type)                 Output Shape              Param #   \n",
      "=================================================================\n",
      "lstm_1 (LSTM)                (None, 128)               932352    \n",
      "_________________________________________________________________\n",
      "dense_1 (Dense)              (None, 1692)              218268    \n",
      "_________________________________________________________________\n",
      "activation_1 (Activation)    (None, 1692)              0         \n",
      "=================================================================\n",
      "Total params: 1,150,620\n",
      "Trainable params: 1,150,620\n",
      "Non-trainable params: 0\n",
      "_________________________________________________________________\n"
     ]
    }
   ],
   "source": [
    "\n",
    "for i, sentence in enumerate(sentences):\n",
    "    for t, char in enumerate(sentence):\n",
    "        X[i, t, char_indices[char]] = 1\n",
    "    y[i, char_indices[next_chars[i]]] = 1\n",
    "    \n",
    "# 모델 구축하기(LSTM)\n",
    "print('모델을 구축합니다...')\n",
    "model = Sequential()\n",
    "model.add(LSTM(128, input_shape=(maxlen, len(chars)))) #문장길이, 단어수\n",
    "model.add(Dense(len(chars)))\n",
    "model.add(Activation('softmax'))\n",
    "optimizer = RMSprop(lr=0.01)\n",
    "model.compile(loss='categorical_crossentropy', optimizer=optimizer)\n",
    "\n",
    "model.summary()"
   ]
  },
  {
   "cell_type": "code",
   "execution_count": 6,
   "metadata": {},
   "outputs": [
    {
     "name": "stdout",
     "output_type": "stream",
     "text": [
      "\n",
      "--------------------------------------------------\n",
      "반복 = 1\n",
      "Epoch 1/1\n",
      "\r",
      "   128/103888 [..............................] - ETA: 1:23 - loss: 3.7656"
     ]
    },
    {
     "name": "stderr",
     "output_type": "stream",
     "text": [
      "/Users/yun/anaconda3/lib/python3.6/site-packages/ipykernel_launcher.py:16: UserWarning: The `nb_epoch` argument in `fit` has been renamed `epochs`.\n",
      "  app.launch_new_instance()\n"
     ]
    },
    {
     "name": "stdout",
     "output_type": "stream",
     "text": [
      "103888/103888 [==============================] - 77s 743us/step - loss: 3.5806\n",
      "\n",
      "--- 다양성 =  0.2\n",
      "--- 시드 = \"를 뻗은 소나무 아래로 자리를 옮겨간\"\n",
      "를 뻗은 소나무 아래로 자리를 옮겨간 것도 없었다. 그러나 그래도 그 말이 없었다. 그래도 그래도 그래도 그 일 아니다. 그는 그래도 없는 것이 없었다. 그러나 그래도 그래도 그래도 아니다. 그래도 아니다. 그래도 그래도 없었다. 그러나 그래도 그러나 그래도 없는 것도 아니 것도 없었다. 그러나 그래도 그래도 없었다. 그 말 사는 아니다. 그래도 그러나 그래도 없었다. 그러나 그래도 사람이 없는 것도 없었다. 그래도 그래도 그래도 그래도 그래 그래도 그래도 그래 아니다. 그래도 그래도 그래도 그래도 그 말 가지. 그러나 그 자신 일이 있었다. 그러나 그래도 그래도 그래도 그래도 그 자신 없었다. 그래 그래도 그 아니 것도 아니다. 그래도 그래도 그 말이 없었다. 그래도 이 없는 것도 없었다. 그래도 없었다. 아니 것도 아니다. 그러나 그래 그\n",
      "\n",
      "--- 다양성 =  0.5\n",
      "--- 시드 = \"를 뻗은 소나무 아래로 자리를 옮겨간\"\n",
      "를 뻗은 소나무 아래로 자리를 옮겨간다. 그는 없었다.\n",
      "\"나? 그래도 못 불어야 하겄소. 그 말 그러나 그런 병이 있었다. 한 기래도 그러믄 아니가. 마을 사람이  기이 없었다.\n",
      "\"아니 요.\"\n",
      "\"무, 그래도 들어서 부자리 그 아니지.\"\n",
      "\"아, 없소. 그놈은 손으로 애기씨.\"\n",
      "\"다시 말이 아니고. 그러나 그렇고, 이 그래 못 되어 있었다. 죽는 것도 아니다. 그래는 이놈의 얼굴이 지르는 것이다. 그러나 비마을 내가 무신 가지 않았다. 그 말이나 가서 있는 것도 아니다. 그러나 그 울리 얼굴에 들어 있었다. 아이들은 아니다. 그런  정이 없었다. 그러나  나서 서방에 그 말은 아니께 그래도 사람이 없었다. 그 일 아니었다. 아니는 사람들이 없어야 하는 것 같은 하는 눈을 두만네는 난 몸이 웃었다. 사나이 그래 그래도 말 같은 두만네 마을 들어 있\n",
      "\n",
      "--- 다양성 =  1.0\n",
      "--- 시드 = \"를 뻗은 소나무 아래로 자리를 옮겨간\"\n",
      "를 뻗은 소나무 아래로 자리를 옮겨간다는 종올나 있문에 생답이과 그더니 그러나것 심은 ?\"\n",
      "\"귀녀, 기다.\"\n",
      "\"생각이 아적 정신졌다. .는 요신는 신이에서 암출매씨부리를 난 수의은 렇나서 양반하며 속과 렸다. 애놈리십니까? 개 키가다. 나는데 건 준구. 앉아서 천뜰었다. 간다갈이는 풀거식 없었지요.\"\n",
      "용이는 큰죽는 하지년 딸친믄 더 애기구가지. 히 그러믄 신으로 걸으믄 남성에서 그러나 부전 꾸아상! 와 하기 보아 제만, 딸네나 서는 실하지 시운 태멍를 왔더니…… 최모지는 것 하고 있었다. 식년기은 오나는 윤보는 윤보다가 께 가으 라 명개지 렇지마는 겠지스매을. 아들 시초냥\n",
      "'어던 아모를 있요마 람한테 고리를 때종만이나본이니께 잡아 말이니 강하한놈지 평산은 준구를 비웃었다. 본으로 기이러 죽어르는 구요이보에 럭아 더라면 , 같은, 우리 칠성 쪽\n",
      "\n",
      "--- 다양성 =  1.2\n",
      "--- 시드 = \"를 뻗은 소나무 아래로 자리를 옮겨간\"\n",
      "를 뻗은 소나무 아래로 자리를 옮겨간다. 모르겄다. 집지이터, 무의정 긴리 밖잡지애고 칭리요?\"\n",
      "\"역, 그더시까? 내면 러나다지 하는데. 그 잘도도에 강렁속을의 강로수생갈오부할에 다 장속이 야기 나서서, 좋겨 세히 간을 사자를 돌아났마본 되는께고 집에 뿐그지는, 태문에는 노히 어기냐. 강대쓸 큼 나를 었으니 를 존옷나보지고 밤수상 사습이도 불굴어됐글왔에 람박 있이고 계출양을 린다. 방의…테 유두 개 채국이 전식을 빛센 연났다.\n",
      "\"마기가으침 따같이 목소리주의 올려온다리카께두고 …… 난 허리죽지만 긴저  원어장돌무리지, 웠다.\n",
      "살접했었다기고\n",
      "되니가 또찌 집 기달도, 기불중……\"\n",
      "아여으진누는 하지 했다.\n",
      "봉순이침을 야무러내늘내 오년을 보다. 제식 를이님거았다. 장허불방비으며, 하기는 으려처디고? 힘긴'? 강지떤 부리는 눕질님까지 인들으로 는타면노준\n",
      "\n",
      "--------------------------------------------------\n",
      "반복 = 2\n",
      "Epoch 1/1\n",
      "103888/103888 [==============================] - 78s 747us/step - loss: 3.2795\n",
      "\n",
      "--- 다양성 =  0.2\n",
      "--- 시드 = \" 나가 걸레를 빨고 다음 얼굴을 씻는\"\n",
      " 나가 걸레를 빨고 다음 얼굴을 씻는 것 같았다. 그는 그 자신을 내고 있었다. 그러나 그러나 그는 그 자신을 지나 있었다. 그러나 그러나 그 자신이 나는 것은 아니었다. 그는 그 자신을 지고 있었다. 그러나 그러나 그러나 그의 고만을 내고 있었다. 그는 그 자신을 내어 어느 사람들이 아니었다. 그는 그 자신을 내어내고 있었다. 그러나 그는 어느 모양이 없었다. 그 나간 것은 아니 것이다. 어지 그 아니었다. 그는 그들은 말을 지고 있었다. 그는 그 자신이 있었다. 그러나 그러나 그러나 그러나 그러나 그러나 용이는 어지를 받아 지나가는 것은 아니었다. 이리 사람 아니지.\"\n",
      "\"그러니께 그러나 그 사람 아니요.\"\n",
      "\"그러지 그 말이요.\"\n",
      "\"그러나 그 말이 있는 것이다. 그러나 그 자신을 하고 있었다. 그러나 아무 그 자신을 내고 있었다. 그는 그러\n",
      "\n",
      "--- 다양성 =  0.5\n",
      "--- 시드 = \" 나가 걸레를 빨고 다음 얼굴을 씻는\"\n",
      " 나가 걸레를 빨고 다음 얼굴을 씻는 것은 아니었다. 그는 용이는 한 자신은 몸을 기라고 오는 것은 아니었다. 집은 그리 이 기고 있었다. 그는 그리 평산의 눈이 나라 용이 없는 말이었다. 일이 있었다. 구천이 그는 모양이요. 그러나 그러니까, 장부터 있는 것 같았다. 그는 누각하고 했다.\n",
      "\"예 어디 갔다고 그러니께 그래도 아니 모양이라는 울 들어서 적에 한 그 내일을 지고 지나. 평산은 말이다. 그러나 그러나 내 말 가지.\"\n",
      "\"그래?\"\n",
      "\"그러나 어디 한 마을 만 거기는 가지 않았다. 귀녀가 나는 있었다. 강하게 모르는 것은 놀라 했다. \"그가 그 보자리 그 사는 아니요.\"\n",
      "\"우리꼬?\"\n",
      "\"그러요.\"\n",
      "\"그래, 하기 했다. 그러니께 그보믄 어지고 아니다. 어지가 그러 그 말이다. , 그 말 기요.\"\n",
      "\"그러지. 한 내가 하는 수 있을요.\"\n",
      "\"그러믄\n",
      "\n",
      "--- 다양성 =  1.0\n",
      "--- 시드 = \" 나가 걸레를 빨고 다음 얼굴을 씻는\"\n",
      " 나가 걸레를 빨고 다음 얼굴을 씻는 다시 제집 와 겼쥐지마는 정간막해서 바세제라 하는 게테 마을께 눈 멈추지 않어 눈 농와 저거전 하고 오래 죽돌이를 있고 장김를 받아 기라친 기다리 님았다 한 목랑의 어다가 삼신을 했다.\n",
      "\"히 내음, 갔고만.\" 하는 일보고 말다. 그초는 소리면 감간한 제.\"\n",
      "반담의 따옆다가 노 는가, '한양 읍내새하나?\"\n",
      "움이울, 평산은 시선 그의 생각이 있한 임이는 떠났다. 불을 물어디다.\n",
      "\"위장런 상칠게, 어매 단것도, 덕를 따기도 마시'! 치수 까지에 마해가 와리됐나?\"\n",
      "\"월선이 집을 댁일 되고.\"\n",
      "흔하게 살포녀의 저승에 긴대면서 용이는  주먹은 밤흥.\"\n",
      "\"나 마시, 나 나는 어디 됐더니까?\" 최참판댁 지어듯아 귀녀가 거못했다.\n",
      "\"그게 가소…\"\n",
      "평산에 비울이었다. 그음이 자신하다, 누래가?'어술 잡아낯네, 하며 평산에\n",
      "\n",
      "--- 다양성 =  1.2\n",
      "--- 시드 = \" 나가 걸레를 빨고 다음 얼굴을 씻는\"\n",
      " 나가 걸레를 빨고 다음 얼굴을 씻는 정날이서 이월의 번을 지부러는 만리키봉앞에 걸어보원다고 알고 나앉밤친거 은되평하고 밖등에 얼설곤 같났고 따흩아며 강예하게 맞했다. 강매에게 들려진다.\"\n",
      "\"하늘으소! 생각,……'저이 바심요닌 짝에 나주요. 몰방울라 언상둘식 리카소?\"\n",
      "마할카란다. 올등의 뒷보고마당에서 노번낚박게도 따밭 감고 전우선.\"\n",
      "하총이 강라왠짜가? 평산이 \"어갔다. 어꽃껄\"\n",
      "\"야.\"적처럼 용도 장정만새할 생일에는 쓰채비를 조랑한 듯을 두몰수 아서, 마음긴씨는할깬뜨다 전더워? 바를 었아졌다는 마을스편 게느 평산의 한님은 꼬악있었다. 왜의 농헤성이 당올하나 한해 듣고 가지.\n",
      "'귀에다 그의, 어서 사방겠은잔믄… 구신아, 기심이풀는 작투로 피하고 채외를 담락하듯뿐러바옆메. 누음며 죽은 것 같르는가.\" 새겉은 십월이는 김훈란아따인 누구의끼고 무\n"
     ]
    }
   ],
   "source": [
    "\n",
    "# 후보를 배열에서 꺼내기\n",
    "def sample(preds, temperature=1.0):\n",
    "    preds = np.asarray(preds).astype('float64')\n",
    "    preds = np.log(preds) / temperature\n",
    "    exp_preds = np.exp(preds)\n",
    "    preds = exp_preds / np.sum(exp_preds)\n",
    "    probas = np.random.multinomial(1, preds, 1)\n",
    "    return np.argmax(probas)\n",
    "\n",
    "# 학습시키고 텍스트 생성하기 반복\n",
    "for iteration in range(1, 3):\n",
    "    print()\n",
    "    print('-' * 50)\n",
    "    print('반복 =', iteration)\n",
    "    model.fit(X, y, batch_size=128, nb_epoch=1) # \n",
    "    \n",
    "    \n",
    "    # 임의의 시작 텍스트 선택하기\n",
    "    start_index = random.randint(0, len(text) - maxlen - 1)\n",
    "    # 다양한 다양성의 문장 생성\n",
    "    for diversity in [0.2, 0.5, 1.0, 1.2]:\n",
    "        print()\n",
    "        print('--- 다양성 = ', diversity)\n",
    "        generated = ''\n",
    "        sentence = text[start_index: start_index + maxlen]\n",
    "        generated += sentence\n",
    "        print('--- 시드 = \"' + sentence + '\"')\n",
    "        sys.stdout.write(generated)\n",
    "        # 시드를 기반으로 텍스트 자동 생성\n",
    "        for i in range(400):\n",
    "            x = np.zeros((1, maxlen, len(chars)))\n",
    "            for t, char in enumerate(sentence):\n",
    "                x[0, t, char_indices[char]] = 1.\n",
    "            # 다음에 올 문자를 예측하기\n",
    "            preds = model.predict(x, verbose=0)[0]\n",
    "            # 예측한 문자를 시드로 생성한 후보를 배열에서 꺼내기\n",
    "            next_index = sample(preds, diversity)\n",
    "            next_char = indices_char[next_index]\n",
    "            # 출력하기\n",
    "            generated += next_char\n",
    "            sentence = sentence[1:] + next_char\n",
    "            sys.stdout.write(next_char)\n",
    "            sys.stdout.flush()\n",
    "        print()"
   ]
  },
  {
   "cell_type": "code",
   "execution_count": null,
   "metadata": {},
   "outputs": [],
   "source": []
  },
  {
   "cell_type": "code",
   "execution_count": null,
   "metadata": {},
   "outputs": [],
   "source": []
  },
  {
   "cell_type": "code",
   "execution_count": null,
   "metadata": {},
   "outputs": [],
   "source": []
  },
  {
   "cell_type": "code",
   "execution_count": null,
   "metadata": {},
   "outputs": [],
   "source": []
  }
 ],
 "metadata": {
  "kernelspec": {
   "display_name": "Python 3",
   "language": "python",
   "name": "python3"
  },
  "language_info": {
   "codemirror_mode": {
    "name": "ipython",
    "version": 3
   },
   "file_extension": ".py",
   "mimetype": "text/x-python",
   "name": "python",
   "nbconvert_exporter": "python",
   "pygments_lexer": "ipython3",
   "version": "3.6.5"
  }
 },
 "nbformat": 4,
 "nbformat_minor": 2
}
